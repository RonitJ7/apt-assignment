{
 "cells": [
  {
   "cell_type": "code",
   "execution_count": 1,
   "id": "a1380bd0",
   "metadata": {},
   "outputs": [],
   "source": [
    "import pandas as pd\n"
   ]
  },
  {
   "cell_type": "code",
   "execution_count": null,
   "id": "504de644",
   "metadata": {},
   "outputs": [],
   "source": [
    "def standardize_timestamp(timestamp_str):\n",
    "    if pd.isna(timestamp_str):\n",
    "        return timestamp_str\n",
    "    if '.' not in str(timestamp_str):\n",
    "        return str(timestamp_str) + '.000000'\n",
    "    return str(timestamp_str)"
   ]
  },
  {
   "cell_type": "code",
   "execution_count": 6,
   "id": "1e8f7bfb",
   "metadata": {},
   "outputs": [
    {
     "name": "stdout",
     "output_type": "stream",
     "text": [
      "Worker logs:\n"
     ]
    },
    {
     "data": {
      "text/html": [
       "<div>\n",
       "<style scoped>\n",
       "    .dataframe tbody tr th:only-of-type {\n",
       "        vertical-align: middle;\n",
       "    }\n",
       "\n",
       "    .dataframe tbody tr th {\n",
       "        vertical-align: top;\n",
       "    }\n",
       "\n",
       "    .dataframe thead th {\n",
       "        text-align: right;\n",
       "    }\n",
       "</style>\n",
       "<table border=\"1\" class=\"dataframe\">\n",
       "  <thead>\n",
       "    <tr style=\"text-align: right;\">\n",
       "      <th></th>\n",
       "      <th>event_id</th>\n",
       "      <th>worker_id</th>\n",
       "      <th>start_time</th>\n",
       "      <th>end_time</th>\n",
       "      <th>status</th>\n",
       "      <th>processing_time</th>\n",
       "    </tr>\n",
       "  </thead>\n",
       "  <tbody>\n",
       "    <tr>\n",
       "      <th>0</th>\n",
       "      <td>evt_0000000</td>\n",
       "      <td>worker-2</td>\n",
       "      <td>2025-07-12 09:15:00.000</td>\n",
       "      <td>2025-07-12 09:15:00.005</td>\n",
       "      <td>success</td>\n",
       "      <td>5.0</td>\n",
       "    </tr>\n",
       "    <tr>\n",
       "      <th>1</th>\n",
       "      <td>evt_0000001</td>\n",
       "      <td>worker-1</td>\n",
       "      <td>2025-07-12 09:15:00.005</td>\n",
       "      <td>2025-07-12 09:15:00.012</td>\n",
       "      <td>success</td>\n",
       "      <td>7.0</td>\n",
       "    </tr>\n",
       "    <tr>\n",
       "      <th>2</th>\n",
       "      <td>evt_0000002</td>\n",
       "      <td>worker-3</td>\n",
       "      <td>2025-07-12 09:15:00.010</td>\n",
       "      <td>2025-07-12 09:15:00.022</td>\n",
       "      <td>success</td>\n",
       "      <td>12.0</td>\n",
       "    </tr>\n",
       "    <tr>\n",
       "      <th>3</th>\n",
       "      <td>evt_0000003</td>\n",
       "      <td>worker-1</td>\n",
       "      <td>2025-07-12 09:15:00.015</td>\n",
       "      <td>2025-07-12 09:15:00.026</td>\n",
       "      <td>success</td>\n",
       "      <td>11.0</td>\n",
       "    </tr>\n",
       "    <tr>\n",
       "      <th>4</th>\n",
       "      <td>evt_0000004</td>\n",
       "      <td>worker-3</td>\n",
       "      <td>2025-07-12 09:15:00.020</td>\n",
       "      <td>2025-07-12 09:15:00.023</td>\n",
       "      <td>success</td>\n",
       "      <td>3.0</td>\n",
       "    </tr>\n",
       "  </tbody>\n",
       "</table>\n",
       "</div>"
      ],
      "text/plain": [
       "      event_id worker_id              start_time                end_time  \\\n",
       "0  evt_0000000  worker-2 2025-07-12 09:15:00.000 2025-07-12 09:15:00.005   \n",
       "1  evt_0000001  worker-1 2025-07-12 09:15:00.005 2025-07-12 09:15:00.012   \n",
       "2  evt_0000002  worker-3 2025-07-12 09:15:00.010 2025-07-12 09:15:00.022   \n",
       "3  evt_0000003  worker-1 2025-07-12 09:15:00.015 2025-07-12 09:15:00.026   \n",
       "4  evt_0000004  worker-3 2025-07-12 09:15:00.020 2025-07-12 09:15:00.023   \n",
       "\n",
       "    status  processing_time  \n",
       "0  success              5.0  \n",
       "1  success              7.0  \n",
       "2  success             12.0  \n",
       "3  success             11.0  \n",
       "4  success              3.0  "
      ]
     },
     "metadata": {},
     "output_type": "display_data"
    },
    {
     "name": "stdout",
     "output_type": "stream",
     "text": [
      "Total log entries: 70250\n",
      "Unique events: 70000\n"
     ]
    }
   ],
   "source": [
    "worker_logs = pd.read_csv('03_worker_logs.csv')\n",
    "worker_logs['start_time'] = worker_logs['start_time'].apply(standardize_timestamp)\n",
    "worker_logs['end_time'] = worker_logs['end_time'].apply(standardize_timestamp)\n",
    "worker_logs['start_time'] = pd.to_datetime(worker_logs['start_time'], format='%Y-%m-%dT%H:%M:%S.%f')\n",
    "worker_logs['end_time'] = pd.to_datetime(worker_logs['end_time'], format='%Y-%m-%dT%H:%M:%S.%f')\n",
    "worker_logs['processing_time'] = (worker_logs['end_time'] - worker_logs['start_time']).dt.total_seconds() * 1000\n",
    "\n",
    "print(\"Worker logs:\")\n",
    "display(worker_logs.head())\n",
    "log_length =  len(worker_logs)\n",
    "print(f\"Total log entries: {log_length}\")\n",
    "unique_events = worker_logs['event_id'].nunique()\n",
    "print(f\"Unique events: {unique_events}\")\n",
    "\n"
   ]
  },
  {
   "cell_type": "code",
   "execution_count": null,
   "id": "a872f0e2",
   "metadata": {},
   "outputs": [],
   "source": [
    "event_counts = worker_logs['event_id'].value_counts()\n",
    "retried_events = event_counts[event_counts > 1]\n",
    "print(f\"Events with retries: {retried_events}\")"
   ]
  }
 ],
 "metadata": {
  "kernelspec": {
   "display_name": "3.12.7",
   "language": "python",
   "name": "python3"
  },
  "language_info": {
   "codemirror_mode": {
    "name": "ipython",
    "version": 3
   },
   "file_extension": ".py",
   "mimetype": "text/x-python",
   "name": "python",
   "nbconvert_exporter": "python",
   "pygments_lexer": "ipython3",
   "version": "3.12.7"
  }
 },
 "nbformat": 4,
 "nbformat_minor": 5
}
